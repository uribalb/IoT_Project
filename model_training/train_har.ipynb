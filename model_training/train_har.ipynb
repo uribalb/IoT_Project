{
  "metadata": {
    "environment": {
      "kernel": "python3",
      "name": "tf2-gpu.2-8.m102",
      "type": "gcloud",
      "uri": "gcr.io/deeplearning-platform-release/tf2-gpu.2-8:m102"
    },
    "kernelspec": {
      "name": "python",
      "display_name": "Python (Pyodide)",
      "language": "python"
    },
    "language_info": {
      "codemirror_mode": {
        "name": "python",
        "version": 3
      },
      "file_extension": ".py",
      "mimetype": "text/x-python",
      "name": "python",
      "nbconvert_exporter": "python",
      "pygments_lexer": "ipython3",
      "version": "3.8"
    }
  },
  "nbformat_minor": 5,
  "nbformat": 4,
  "cells": [
    {
      "cell_type": "code",
      "source": "import pandas as pd \nimport tensorflow as tf \nimport glob\nimport numpy as np \nfrom tensorflow import keras\nfrom keras import Sequential\nfrom sklearn.utils import shuffle\nimport sklearn.model_selection\nfrom google.cloud import storage\nimport os\nimport glob",
      "metadata": {
        "pycharm": {
          "name": "#%%\n"
        }
      },
      "execution_count": null,
      "outputs": [],
      "id": "1934b222-38d9-4b4d-9d5d-e45bdbfa932a"
    },
    {
      "cell_type": "code",
      "source": "# Paramètres Cloud Storage",
      "metadata": {
        "pycharm": {
          "name": "#%%\n"
        }
      },
      "execution_count": null,
      "outputs": [],
      "id": "d6872b8c-f67e-4ea9-991c-9625a5417d90"
    },
    {
      "cell_type": "code",
      "source": "mybucket = \"dataset_ml_prenom\"  # modifier prenom par votre propre prenom",
      "metadata": {
        "pycharm": {
          "name": "#%%\n"
        }
      },
      "execution_count": null,
      "outputs": [],
      "id": "46ca59d2-565e-4426-bf4f-3000ad739d5b"
    },
    {
      "cell_type": "code",
      "source": "# Lecture du dataset depuis Cloud Storage",
      "metadata": {
        "pycharm": {
          "name": "#%%\n"
        }
      },
      "execution_count": null,
      "outputs": [],
      "id": "e1a28672-cbbb-4746-ad55-5a4dfea7a642"
    },
    {
      "cell_type": "code",
      "source": "df = pd.read_csv(f\"gs://{mybucket}/dataset/mpu6050_data.csv\")\nprint(df)",
      "metadata": {
        "pycharm": {
          "name": "#%%\n"
        }
      },
      "execution_count": null,
      "outputs": [],
      "id": "89820216-5a76-4248-9294-cebd1b6d324a"
    },
    {
      "cell_type": "code",
      "source": "# Formattage dataset",
      "metadata": {
        "pycharm": {
          "name": "#%%\n"
        }
      },
      "execution_count": null,
      "outputs": [],
      "id": "f9e05876-473d-4e5c-96b0-11f0750d3d9f"
    },
    {
      "cell_type": "code",
      "source": "STEP_SIZE = 20\nSENSOR_NUM = 6\nNUM_CLASSESS = 7\n\nLabel = { 'STD':0, 'WAL':1, 'JOG':2 , 'JUM':3, 'FALL':4 , 'LYI':5,'RA':6} \nclass_names = { 0:'STD', 1:'WAL', 2:'JOG' , 3:'JUM', 4:'FALL', 5:'LYI',6:'RA'}\ndataSet = df[[\"acc_x\", \"acc_y\", \"acc_z\", \"gyro_x\", \"gyro_y\", \"gyro_z\", \"label\"]]\ndataSet.label = [Label[item] for item in dataSet.label]\nprint(dataSet)\n\nx = np.array(dataSet.drop([\"label\"],1))\ny = np.array(dataSet[\"label\"])\nmodDataset = []\nmodTruth =[]\nfor i in range(len(x)-STEP_SIZE):\n    temp = []\n    for j in range(i, i+STEP_SIZE):\n        temp.append(x[j])\n    modDataset.append(temp)\n\nfor i in range(len(y)-STEP_SIZE):\n    temp = []\n    for j in range(i, i+STEP_SIZE):\n        temp.append(y[j])\n    most_common_item = max(temp, key = temp.count)\n    modTruth.append(most_common_item)\n\nmodDataset = np.array(modDataset).reshape(-1, STEP_SIZE, SENSOR_NUM)\nprint(modDataset)",
      "metadata": {
        "pycharm": {
          "name": "#%%\n"
        }
      },
      "execution_count": null,
      "outputs": [],
      "id": "e896e664-bf8e-4532-a06e-0c6b1ba28112"
    },
    {
      "cell_type": "code",
      "source": "# Entrainement du modèle de classification des activités physiques humaines",
      "metadata": {
        "pycharm": {
          "name": "#%%\n"
        }
      },
      "execution_count": null,
      "outputs": [],
      "id": "265158c6-08d6-4325-8424-2de1d0a885cd"
    },
    {
      "cell_type": "code",
      "source": "y = np.array(modTruth)\nx = modDataset\nx_train, x_test, y_train, y_test = sklearn.model_selection.train_test_split(x,y,test_size = 0.3)\n\nmodel = tf.keras.Sequential()\nmodel.add(keras.layers.Flatten(input_shape=(STEP_SIZE, SENSOR_NUM)))\nmodel.add(keras.layers.Dense(128, activation='relu'))\nmodel.add(keras.layers.Dropout(0.3))\nmodel.add(keras.layers.Dense(128, activation='relu'))\nmodel.add(keras.layers.Dropout(0.3))\nmodel.add(keras.layers.Dense(NUM_CLASSESS, activation='softmax'))   \n\nmodel.compile(optimizer=\"adam\", loss=\"sparse_categorical_crossentropy\", metrics=[\"accuracy\"]) \nmodel.summary()\n\nmodel.fit(x_train, y_train, epochs=30, validation_split =0.1)\nmodel.save(\"human_activity_recognition\") \n# Save mode in Cloud Storage\nstorage_client = storage.Client()\nbucket = storage_client.get_bucket(mybucket)\n\ndef upload_to_bucket(src_path, dest_path):\n    if os.path.isfile(src_path):\n        blob = bucket.blob(os.path.join(dest_path, os.path.basename(src_path)))\n        blob.upload_from_filename(src_path)\n        return\n    for item in glob.glob(src_path + '/*'):\n        if os.path.isfile(item):\n            blob = bucket.blob(os.path.join(dest_path, os.path.basename(item)))\n            blob.upload_from_filename(item)\n        else:\n            upload_to_bucket(item, os.path.join(dest_path, os.path.basename(item)))\n\nupload_to_bucket(\"human_activity_recognition\", \"models/human_activity_recognition\")\nprint(f\"Model saved on bucket gs://{mybucket}/models/human_activity_recognitio\")",
      "metadata": {
        "pycharm": {
          "name": "#%%\n"
        }
      },
      "execution_count": null,
      "outputs": [],
      "id": "0728d877-899e-4ee8-8849-d569db2ff9a8"
    },
    {
      "cell_type": "code",
      "source": "# Testing    ",
      "metadata": {
        "pycharm": {
          "name": "#%%\n"
        }
      },
      "execution_count": null,
      "outputs": [],
      "id": "3cdb2409-4ece-4bd2-ae6d-7ad8f4509830"
    },
    {
      "cell_type": "code",
      "source": "pred = model.predict(x_test)\nresults = np.argmax(pred, axis=1)\n\nfor i in range(50) :\n    if class_names[y_test[i]] == class_names[results[i]]:\n        print(\"prediction: \", class_names[results[i]], \"    actual: \", class_names[y_test[i]], \"prediction: Correct!!!\" )\n    else:\n        print(\"prediction: \", class_names[results[i]], \"    actual: \", class_names[y_test[i]], \"prediction: Wrong :( \" )",
      "metadata": {
        "pycharm": {
          "name": "#%%\n"
        }
      },
      "execution_count": null,
      "outputs": [],
      "id": "c943b2f3-c3e0-4d74-9586-8b0faa4e2603"
    }
  ]
}